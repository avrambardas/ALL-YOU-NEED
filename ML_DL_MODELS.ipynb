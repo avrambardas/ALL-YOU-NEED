{
  "nbformat": 4,
  "nbformat_minor": 0,
  "metadata": {
    "colab": {
      "name": "ML-DL-MODELS.ipynb",
      "provenance": [],
      "collapsed_sections": [
        "4rKevYOQBszU",
        "ZTncJysERGYU",
        "1fh-gMHo54M6",
        "6uDYw1BlYg_o",
        "BilJ8g1LQ_PG",
        "GGbhAeY3bjCw",
        "WTcAfzbwkYnX"
      ],
      "toc_visible": true
    },
    "kernelspec": {
      "name": "python3",
      "display_name": "Python 3"
    },
    "language_info": {
      "name": "python"
    }
  },
  "cells": [
    {
      "cell_type": "markdown",
      "source": [
        "# IMPORTS"
      ],
      "metadata": {
        "id": "04Q2bfqk5-DX"
      }
    },
    {
      "cell_type": "code",
      "execution_count": null,
      "metadata": {
        "id": "doOzXJDa3hu-"
      },
      "outputs": [],
      "source": [
        "from keras.datasets import mnist\n",
        "import matplotlib.pyplot as plt\n",
        "import tensorflow as tf\n",
        "from tensorflow.keras.utils import to_categorical\n",
        "from keras.utils import np_utils\n",
        "from keras.layers.core import Dense, Dropout, Activation\n",
        "%matplotlib inline\n",
        "import numpy as np\n",
        "import time\n",
        "from tensorflow.keras.models import Sequential\n",
        "from tensorflow.keras.layers import Dense, Conv2D, Flatten\n",
        "from keras.backend import dropout\n",
        "import torch\n",
        "import torch.nn as nn\n",
        "import torch.nn.functional as F\n",
        "from tensorflow.keras.layers import MaxPooling2D\n",
        "from tensorflow.keras.optimizers import SGD"
      ]
    },
    {
      "cell_type": "markdown",
      "source": [
        "# DATA LOADING/PREPROCESSING"
      ],
      "metadata": {
        "id": "4rKevYOQBszU"
      }
    },
    {
      "cell_type": "code",
      "source": [
        "# load dataset\n",
        "(x_train, y_train), (x_test, y_test) = mnist.load_data()"
      ],
      "metadata": {
        "id": "2Pjw_58P3nE1",
        "colab": {
          "base_uri": "https://localhost:8080/"
        },
        "outputId": "ea43b74a-1a24-483a-a918-61a6e4e114d2"
      },
      "execution_count": null,
      "outputs": [
        {
          "output_type": "stream",
          "name": "stdout",
          "text": [
            "Downloading data from https://storage.googleapis.com/tensorflow/tf-keras-datasets/mnist.npz\n",
            "11493376/11490434 [==============================] - 0s 0us/step\n",
            "11501568/11490434 [==============================] - 0s 0us/step\n"
          ]
        }
      ]
    },
    {
      "cell_type": "code",
      "source": [
        "# plot the first image\n",
        "image_index = 0\n",
        "print(y_train[image_index])\n",
        "plt.imshow(x_train[image_index], cmap='Greys')\n",
        "plt.show()"
      ],
      "metadata": {
        "id": "Nf7WeqFc-rIz"
      },
      "execution_count": null,
      "outputs": []
    },
    {
      "cell_type": "code",
      "source": [
        "# we have 60000/10000 train/test images of shape 28x28 \n",
        "print(x_train.shape)\n",
        "print(x_test.shape)"
      ],
      "metadata": {
        "colab": {
          "base_uri": "https://localhost:8080/"
        },
        "id": "zhOHXwwY-5RZ",
        "outputId": "4b9c3bba-4c9a-4cd1-9512-56597eaaf9c7"
      },
      "execution_count": null,
      "outputs": [
        {
          "output_type": "stream",
          "name": "stdout",
          "text": [
            "(60000, 28, 28)\n",
            "(10000, 28, 28)\n"
          ]
        }
      ]
    },
    {
      "cell_type": "markdown",
      "source": [
        "DATA"
      ],
      "metadata": {
        "id": "AWdui_yyBxzN"
      }
    },
    {
      "cell_type": "code",
      "source": [
        "def reshape_x(x_train, x_test):\n",
        "  # reshape our data into vectors of length 784\n",
        "  x_train = x_train.reshape(60000, 784)\n",
        "  x_test = x_test.reshape(10000, 784)\n",
        "  x_train = x_train.astype('float32')\n",
        "  x_test = x_test.astype('float32')\n",
        "\n",
        "  # normalizing the data\n",
        "  x_train /= 255\n",
        "  x_test /= 255\n",
        "\n",
        "  # print the final input shape ready for training\n",
        "  print(\"Train matrix shape\", x_train.shape)\n",
        "  print(\"Test matrix shape\", x_test.shape)\n",
        "  return x_train, x_test"
      ],
      "metadata": {
        "id": "h6dZv_hvLrXV"
      },
      "execution_count": null,
      "outputs": []
    },
    {
      "cell_type": "markdown",
      "source": [
        "LABELS\n",
        "\n",
        "NOTE: DONT RUN THIS CELL IF YOU WANT TO RUN THE PYTORCH MODEL"
      ],
      "metadata": {
        "id": "J2zn7NOIB1sL"
      }
    },
    {
      "cell_type": "code",
      "source": [
        "def reshape_y(y_train, y_test):\n",
        "  #n_classes = 10\n",
        "  n_classes = len(set(y_train))\n",
        "  print(\"Shape before one-hot encoding: \", y_train.shape)\n",
        "  y_train = np_utils.to_categorical(y_train, n_classes)\n",
        "  y_test = np_utils.to_categorical(y_test, n_classes)\n",
        "  print(\"Shape after one-hot encoding: \", y_train.shape)\n",
        "  return y_train, y_test"
      ],
      "metadata": {
        "id": "3sT4TNU0Ltwz"
      },
      "execution_count": null,
      "outputs": []
    },
    {
      "cell_type": "markdown",
      "source": [
        "# NEURAL NETWORK FROM SCRATCH"
      ],
      "metadata": {
        "id": "ZTncJysERGYU"
      }
    },
    {
      "cell_type": "code",
      "source": [
        "def sigmoid(sum):\n",
        "    return 1/(1 + np.exp(-sum))\n",
        "\n",
        "def sigmoid_derivative(s):\n",
        "    return s*(1-s)"
      ],
      "metadata": {
        "id": "CrYCEt07S5eH"
      },
      "execution_count": null,
      "outputs": []
    },
    {
      "cell_type": "code",
      "source": [
        "train_data, test_data = reshape_x(x_train, x_test)\n",
        "train_target, test_target = reshape_y(y_train, y_test)"
      ],
      "metadata": {
        "colab": {
          "base_uri": "https://localhost:8080/"
        },
        "id": "4qthBzTdR8HD",
        "outputId": "4e020bde-5155-4ea7-ac2b-258176ad64c9"
      },
      "execution_count": null,
      "outputs": [
        {
          "output_type": "stream",
          "name": "stdout",
          "text": [
            "Train matrix shape (60000, 784)\n",
            "Test matrix shape (10000, 784)\n",
            "Shape before one-hot encoding:  (60000,)\n",
            "Shape after one-hot encoding:  (60000, 10)\n"
          ]
        }
      ]
    },
    {
      "cell_type": "code",
      "source": [
        "# this is the MLP using numpy arrays\n",
        "# has only one hidden layer so results might not be great\n",
        "# if the dataset is complicated\n",
        "# you can add additional hidden layers \n",
        "\n",
        "NUM_OF_INPUT = 784\n",
        "NUM_OF_MEURONS_IN_HDDEN = 100\n",
        "NUM_OF_OUTPUT_NEURONS = 10\n",
        "epochs = 10\n",
        "learning_rate = 0.5\n",
        "train_accuracies = []\n",
        "val_accuracies = []\n",
        "\n",
        "# weights0: connecting input and hidden layer\n",
        "# weights1: connecting hidden layer and output layer\n",
        "weights0 = np.random.rand(NUM_OF_INPUT,NUM_OF_MEURONS_IN_HDDEN) \n",
        "weights1 = np.random.rand(NUM_OF_MEURONS_IN_HDDEN,NUM_OF_OUTPUT_NEURONS)\n",
        "\n",
        "weights0 = 2*weights0 -1\n",
        "weights1 = 2*weights1 -1\n",
        "\n",
        "start_time = time.time()\n",
        "\n",
        "#while (time.time() - start_time)/60 < 26: used when we want to run the model for a certain amount of time\n",
        "for epoch in range(epochs):\n",
        "    #training\n",
        "    train_acc = 0\n",
        "    for k in range(len(train_data)): \n",
        "        input_layer = train_data[k]\n",
        "        trueLabels = train_target[k]\n",
        "        # forward\n",
        "        # calculating activation values of hidden layer\n",
        "        sum_synapsed0 = np.dot(input_layer, weights0) # multiplication and sum\n",
        "        hidden_layer = sigmoid(sum_synapsed0) # results of activationfunction in hidden layer\n",
        "    \n",
        "        sum_synapsed1 = np.dot(hidden_layer, weights1)\n",
        "        output_layer = sigmoid(sum_synapsed1)\n",
        "        \n",
        "        # calculating error\n",
        "        error_output_layer = np.subtract(trueLabels, output_layer)\n",
        "        average = np.mean(pow(error_output_layer,2))\n",
        "\n",
        "        maxIndex = output_layer.argmax()\n",
        "        trueIndex = trueLabels.argmax()\n",
        "        if(maxIndex == trueIndex):\n",
        "            train_acc +=1\n",
        "        \n",
        "        # backpropagation\n",
        "        # calculating delta_output\n",
        "        derivative_output = sigmoid_derivative(output_layer)\n",
        "        delta_output = error_output_layer*derivative_output # calculate delta for output layer\n",
        "        \n",
        "        # calculating delta_hidden\n",
        "        weights1_T = weights1.T\n",
        "        delta_output_x_weights1 = np.dot(delta_output, weights1_T)\n",
        "        delta_hidden = delta_output_x_weights1*sigmoid_derivative(hidden_layer)\n",
        "    \n",
        "        # updating output weights\n",
        "        input_x_delta1 = np.outer(delta_output, hidden_layer)\n",
        "        weights1 = weights1.T + (input_x_delta1*learning_rate)\n",
        "        weights1 = weights1.T\n",
        "        \n",
        "        # updating output weights\n",
        "        input_x_delta0 = np.outer(delta_hidden, input_layer)\n",
        "        weights0 = weights0.T + (input_x_delta0*learning_rate)\n",
        "        weights0 = weights0.T\n",
        "        \n",
        "    \n",
        "    # IN CASE WE HAVE VALIDATION DATA\n",
        "    #validation   \n",
        "    #val_acc = 0\n",
        "    #for k in range(len(valData)): \n",
        "    #    input_layer = valData[k]\n",
        "    #    trueLabels = valLabels[k]\n",
        "        \n",
        "        #forward\n",
        "        #calculating activation values of hidden layer\n",
        "    #    sum_synapsed0 = np.dot(input_layer, weights0) #multiplication and sum\n",
        "    #    hidden_layer = sigmoid(sum_synapsed0) #results of activationfunction in hidden layer\n",
        "    \n",
        "    #   sum_synapsed1 = np.dot(hidden_layer, weights1)\n",
        "    #    output_layer = sigmoid(sum_synapsed1)\n",
        "        \n",
        "        #calculating error\n",
        "    #    error_output_layer = np.subtract(trueLabels, output_layer)\n",
        "    #    average = np.mean(pow(error_output_layer,2))\n",
        "\n",
        "    #    maxIndex = output_layer.argmax()\n",
        "    #    trueIndex = trueLabels.argmax()\n",
        "    #    if(maxIndex == trueIndex):\n",
        "    #        val_acc +=1\n",
        "    \n",
        "    epoch += 1\n",
        "    train_accuracies.append(round(train_acc/len(train_data)*100,2))\n",
        "    #val_accuracies.append(round(val_acc/len(valData)*100,2))\n",
        "    print(\"epoch\", epoch, \" time:\", round((time.time() - start_time)/60, 2), \"minutes\")\n",
        "    print(\"train accuracy\", round(train_acc/len(train_data)*100,2),\"% accuracy\")\n",
        "    #print(\"val accuracy\", round(val_acc/len(valData)*100,2),\"% accuracy\")\n",
        "\n",
        "#testing\n",
        "test_acc = 0\n",
        "for k in range(len(test_data)): \n",
        "    input_layer = test_data[k]\n",
        "    trueLabels = test_target[k]\n",
        "        \n",
        "    #forward\n",
        "    #calculating activation values of hidden layer\n",
        "    sum_synapsed0 = np.dot(input_layer, weights0) #multiplication and sum \n",
        "    hidden_layer = sigmoid(sum_synapsed0) #results of activationfunction in hidden layer \n",
        "    \n",
        "    sum_synapsed1 = np.dot(hidden_layer, weights1)\n",
        "    output_layer = sigmoid(sum_synapsed1)\n",
        "        \n",
        "    #calculating error\n",
        "    error_output_layer = np.subtract(trueLabels, output_layer)\n",
        "    average = np.mean(pow(error_output_layer,2))\n",
        "\n",
        "    maxIndex = output_layer.argmax()\n",
        "    trueIndex = trueLabels.argmax()\n",
        "    if(maxIndex == trueIndex):\n",
        "        test_acc +=1\n",
        "\n",
        "print(\"==============================\")\n",
        "print(\"test accuracy\", round(test_acc/len(test_data)*100,2),\"% accuracy\")   "
      ],
      "metadata": {
        "colab": {
          "base_uri": "https://localhost:8080/"
        },
        "id": "Ql2ZlrY4S8B4",
        "outputId": "46f125a9-afdf-4f0e-ec9a-1095b93e994c"
      },
      "execution_count": null,
      "outputs": [
        {
          "output_type": "stream",
          "name": "stdout",
          "text": [
            "epoch 1  time: 0.56 minutes\n",
            "train accuracy 90.08 % accuracy\n",
            "epoch 2  time: 1.14 minutes\n",
            "train accuracy 95.07 % accuracy\n",
            "epoch 3  time: 1.71 minutes\n",
            "train accuracy 96.12 % accuracy\n",
            "epoch 4  time: 2.27 minutes\n",
            "train accuracy 96.69 % accuracy\n",
            "epoch 5  time: 2.84 minutes\n",
            "train accuracy 97.13 % accuracy\n",
            "epoch 6  time: 3.42 minutes\n",
            "train accuracy 97.36 % accuracy\n",
            "epoch 7  time: 3.98 minutes\n",
            "train accuracy 97.55 % accuracy\n",
            "epoch 8  time: 4.54 minutes\n",
            "train accuracy 97.69 % accuracy\n",
            "epoch 9  time: 5.1 minutes\n",
            "train accuracy 97.94 % accuracy\n",
            "epoch 10  time: 5.68 minutes\n",
            "train accuracy 98.04 % accuracy\n",
            "==============================\n",
            "test accuracy 96.67 % accuracy\n"
          ]
        }
      ]
    },
    {
      "cell_type": "markdown",
      "source": [
        "# NEURAL NETWORK with Keras"
      ],
      "metadata": {
        "id": "1fh-gMHo54M6"
      }
    },
    {
      "cell_type": "markdown",
      "source": [
        "DEFINE MODEL"
      ],
      "metadata": {
        "id": "sVkvRKyiQgAF"
      }
    },
    {
      "cell_type": "code",
      "source": [
        "# building a linear stack of layers with the sequential model\n",
        "model = Sequential()\n",
        "model.add(Dense(64, input_shape=(784,), activation=\"relu\"))                           \n",
        "model.add(Dropout(0.2))\n",
        "\n",
        "model.add(Dense(32, activation=\"relu\"))\n",
        "model.add(Dropout(0.2))\n",
        "\n",
        "model.add(Dense(10, activation=\"softmax\"))"
      ],
      "metadata": {
        "id": "fRpYvGBoLuij"
      },
      "execution_count": null,
      "outputs": []
    },
    {
      "cell_type": "code",
      "source": [
        "# compiling the sequential model\n",
        "model.compile(loss='categorical_crossentropy', metrics=['accuracy'], optimizer='adam')"
      ],
      "metadata": {
        "id": "8qIVbQ9GNazZ"
      },
      "execution_count": null,
      "outputs": []
    },
    {
      "cell_type": "code",
      "source": [
        "train_data, test_data = reshape_x(x_train, x_test)\n",
        "train_target, test_target = reshape_y(y_train, y_test)"
      ],
      "metadata": {
        "colab": {
          "base_uri": "https://localhost:8080/"
        },
        "id": "xKkvH-PuV8re",
        "outputId": "dbfc6a3b-943a-439b-cc4c-e17233e8a3f5"
      },
      "execution_count": null,
      "outputs": [
        {
          "output_type": "stream",
          "name": "stdout",
          "text": [
            "Train matrix shape (60000, 784)\n",
            "Test matrix shape (10000, 784)\n",
            "Shape before one-hot encoding:  (60000,)\n",
            "Shape after one-hot encoding:  (60000, 10)\n"
          ]
        }
      ]
    },
    {
      "cell_type": "markdown",
      "source": [
        "TRAIN"
      ],
      "metadata": {
        "id": "V6nsWHGHQlcT"
      }
    },
    {
      "cell_type": "code",
      "source": [
        "# training the model and saving metrics in history\n",
        "history = model.fit(train_data, train_target,\n",
        "          batch_size=128, epochs=20,\n",
        "          verbose=2,\n",
        "          validation_data=(test_data, test_target))"
      ],
      "metadata": {
        "colab": {
          "base_uri": "https://localhost:8080/"
        },
        "id": "lOoIaIxaNbzl",
        "outputId": "07778623-b38c-4423-8f47-45525873105a"
      },
      "execution_count": null,
      "outputs": [
        {
          "output_type": "stream",
          "name": "stdout",
          "text": [
            "Epoch 1/20\n",
            "469/469 - 3s - loss: 0.6204 - accuracy: 0.8065 - val_loss: 0.2280 - val_accuracy: 0.9335 - 3s/epoch - 6ms/step\n",
            "Epoch 2/20\n",
            "469/469 - 1s - loss: 0.2926 - accuracy: 0.9150 - val_loss: 0.1697 - val_accuracy: 0.9493 - 1s/epoch - 3ms/step\n",
            "Epoch 3/20\n",
            "469/469 - 1s - loss: 0.2330 - accuracy: 0.9335 - val_loss: 0.1404 - val_accuracy: 0.9591 - 1s/epoch - 3ms/step\n",
            "Epoch 4/20\n",
            "469/469 - 1s - loss: 0.1994 - accuracy: 0.9427 - val_loss: 0.1277 - val_accuracy: 0.9612 - 1s/epoch - 3ms/step\n",
            "Epoch 5/20\n",
            "469/469 - 1s - loss: 0.1780 - accuracy: 0.9475 - val_loss: 0.1182 - val_accuracy: 0.9640 - 1s/epoch - 3ms/step\n",
            "Epoch 6/20\n",
            "469/469 - 1s - loss: 0.1641 - accuracy: 0.9522 - val_loss: 0.1057 - val_accuracy: 0.9686 - 1s/epoch - 3ms/step\n",
            "Epoch 7/20\n",
            "469/469 - 1s - loss: 0.1527 - accuracy: 0.9553 - val_loss: 0.1080 - val_accuracy: 0.9674 - 1s/epoch - 3ms/step\n",
            "Epoch 8/20\n",
            "469/469 - 1s - loss: 0.1444 - accuracy: 0.9576 - val_loss: 0.0988 - val_accuracy: 0.9702 - 1s/epoch - 3ms/step\n",
            "Epoch 9/20\n",
            "469/469 - 2s - loss: 0.1350 - accuracy: 0.9597 - val_loss: 0.0989 - val_accuracy: 0.9712 - 2s/epoch - 5ms/step\n",
            "Epoch 10/20\n",
            "469/469 - 1s - loss: 0.1283 - accuracy: 0.9612 - val_loss: 0.0990 - val_accuracy: 0.9727 - 1s/epoch - 3ms/step\n",
            "Epoch 11/20\n",
            "469/469 - 1s - loss: 0.1203 - accuracy: 0.9643 - val_loss: 0.0975 - val_accuracy: 0.9726 - 1s/epoch - 3ms/step\n",
            "Epoch 12/20\n",
            "469/469 - 1s - loss: 0.1154 - accuracy: 0.9656 - val_loss: 0.0978 - val_accuracy: 0.9739 - 1s/epoch - 3ms/step\n",
            "Epoch 13/20\n",
            "469/469 - 1s - loss: 0.1121 - accuracy: 0.9648 - val_loss: 0.0972 - val_accuracy: 0.9746 - 1s/epoch - 3ms/step\n",
            "Epoch 14/20\n",
            "469/469 - 1s - loss: 0.1100 - accuracy: 0.9664 - val_loss: 0.0925 - val_accuracy: 0.9746 - 1s/epoch - 3ms/step\n",
            "Epoch 15/20\n",
            "469/469 - 1s - loss: 0.1032 - accuracy: 0.9694 - val_loss: 0.0937 - val_accuracy: 0.9744 - 1s/epoch - 3ms/step\n",
            "Epoch 16/20\n",
            "469/469 - 1s - loss: 0.1044 - accuracy: 0.9683 - val_loss: 0.0911 - val_accuracy: 0.9753 - 1s/epoch - 3ms/step\n",
            "Epoch 17/20\n",
            "469/469 - 1s - loss: 0.1004 - accuracy: 0.9696 - val_loss: 0.0944 - val_accuracy: 0.9730 - 1s/epoch - 3ms/step\n",
            "Epoch 18/20\n",
            "469/469 - 1s - loss: 0.0978 - accuracy: 0.9696 - val_loss: 0.0960 - val_accuracy: 0.9735 - 1s/epoch - 3ms/step\n",
            "Epoch 19/20\n",
            "469/469 - 1s - loss: 0.0935 - accuracy: 0.9710 - val_loss: 0.0931 - val_accuracy: 0.9745 - 1s/epoch - 3ms/step\n",
            "Epoch 20/20\n",
            "469/469 - 1s - loss: 0.0931 - accuracy: 0.9718 - val_loss: 0.0975 - val_accuracy: 0.9740 - 1s/epoch - 3ms/step\n"
          ]
        }
      ]
    },
    {
      "cell_type": "markdown",
      "source": [
        "RESULTS"
      ],
      "metadata": {
        "id": "erWAaQGCQnnX"
      }
    },
    {
      "cell_type": "code",
      "source": [
        "# in case you want to see the keys that are saved in history\n",
        "# these keys are used for the plots below\n",
        "for key in history.history.keys():\n",
        "    print(key)"
      ],
      "metadata": {
        "colab": {
          "base_uri": "https://localhost:8080/"
        },
        "id": "LEU8TcprQvnl",
        "outputId": "6b619931-f37b-402f-97e0-bbaa6c0bee14"
      },
      "execution_count": null,
      "outputs": [
        {
          "output_type": "stream",
          "name": "stdout",
          "text": [
            "loss\n",
            "accuracy\n",
            "val_loss\n",
            "val_accuracy\n"
          ]
        }
      ]
    },
    {
      "cell_type": "code",
      "source": [
        "# plotting the metrics\n",
        "fig = plt.figure()\n",
        "plt.subplot(2,1,1)\n",
        "plt.plot(history.history['accuracy'])\n",
        "plt.plot(history.history['val_accuracy'])\n",
        "plt.title('model accuracy')\n",
        "plt.ylabel('accuracy')\n",
        "plt.xlabel('epoch')\n",
        "plt.legend(['train', 'test'], loc='lower right')\n",
        "\n",
        "plt.subplot(2,1,2)\n",
        "plt.plot(history.history['loss'])\n",
        "plt.plot(history.history['val_loss'])\n",
        "plt.title('model loss')\n",
        "plt.ylabel('loss')\n",
        "plt.xlabel('epoch')\n",
        "plt.legend(['train', 'test'], loc='upper right')\n",
        "\n",
        "plt.tight_layout()"
      ],
      "metadata": {
        "colab": {
          "base_uri": "https://localhost:8080/",
          "height": 297
        },
        "id": "y7U_UMQ_PQTo",
        "outputId": "7e8b99fa-4adb-4b52-8122-d1d6a3007bde"
      },
      "execution_count": null,
      "outputs": [
        {
          "output_type": "display_data",
          "data": {
            "text/plain": [
              "<Figure size 432x288 with 2 Axes>"
            ],
            "image/png": "[encoded data removed]"
          },
          "metadata": {
            "needs_background": "light"
          }
        }
      ]
    },
    {
      "cell_type": "markdown",
      "source": [
        "# NEURAL NETWORK with Pytorch"
      ],
      "metadata": {
        "id": "6uDYw1BlYg_o"
      }
    },
    {
      "cell_type": "code",
      "source": [
        "# https://www.youtube.com/watch?v=Jy4wM2X21u0"
      ],
      "metadata": {
        "id": "uUFt5vEnmpOJ"
      },
      "execution_count": null,
      "outputs": []
    },
    {
      "cell_type": "code",
      "source": [
        "import torch\n",
        "import torch.nn as nn\n",
        "from torch import Tensor\n",
        "import torch.optim as optim\n",
        "import torch.nn.functional as F\n",
        "from torch.utils.data import DataLoader, TensorDataset"
      ],
      "metadata": {
        "id": "5XeieEZeYHIm"
      },
      "execution_count": null,
      "outputs": []
    },
    {
      "cell_type": "code",
      "source": [
        "# define the parameters\n",
        "device = torch.device(\"cuda\" if torch.cuda.is_available() else \"cpu\")\n",
        "input_size = 784\n",
        "num_classes = 10\n",
        "learning_rate = 0.001\n",
        "batch_size = 64\n",
        "num_epochs = 5\n",
        "\n",
        "# here we only want to change the data and not the target values\n",
        "train_data, test_data = reshape_x(x_train, x_test)\n",
        "train_target, test_target = y_train, y_test\n",
        "\n",
        "# create the data loaders needed for the pytorch model\n",
        "train_data = TensorDataset( Tensor(train_data), Tensor(train_target) )\n",
        "trainloader = torch.utils.data.DataLoader(train_data, shuffle=True, batch_size=batch_size)\n",
        "\n",
        "test_data = TensorDataset( Tensor(test_data), Tensor(test_target) )\n",
        "testloader = torch.utils.data.DataLoader(test_data, shuffle=True, batch_size=batch_size)"
      ],
      "metadata": {
        "id": "E_mWQBBQlwFc",
        "colab": {
          "base_uri": "https://localhost:8080/"
        },
        "outputId": "9acb5a61-e6a5-49ac-822a-e5e1fb943938"
      },
      "execution_count": null,
      "outputs": [
        {
          "output_type": "stream",
          "name": "stdout",
          "text": [
            "Train matrix shape (60000, 784)\n",
            "Test matrix shape (10000, 784)\n"
          ]
        }
      ]
    },
    {
      "cell_type": "markdown",
      "source": [
        "DEFINE MODEL"
      ],
      "metadata": {
        "id": "GaBbT1Lfd0o4"
      }
    },
    {
      "cell_type": "code",
      "source": [
        "class NNP(nn.Module):\n",
        "    def __init__(self, input_size, num_classes):\n",
        "      super(NNP, self).__init__()\n",
        "      self.fc1 = nn.Linear(input_size, 50)\n",
        "      self.fc2 = nn.Linear(50, num_classes)\n",
        "\n",
        "    def forward(self, x):\n",
        "      x = F.relu(self.fc1(x))\n",
        "      x = self.fc2(x)\n",
        "      return x\n",
        "\n",
        "# test with random input\n",
        "#model = NNP(784, 10)\n",
        "#x = torch.rand(64, 784)\n",
        "#print(model(x).shape)\n",
        "\n",
        "model = NNP(input_size, num_classes=10).to(device)\n",
        "criterion = nn.CrossEntropyLoss()\n",
        "optimizer = optim.Adam(model.parameters(), lr=learning_rate)"
      ],
      "metadata": {
        "id": "vw0wS90uXIOK"
      },
      "execution_count": null,
      "outputs": []
    },
    {
      "cell_type": "markdown",
      "source": [
        "TRAINING/TESTING"
      ],
      "metadata": {
        "id": "qu8pBnwLlHpS"
      }
    },
    {
      "cell_type": "code",
      "source": [
        "num_cor = 0\n",
        "num_samples = 0\n",
        "for epoch in range(num_epochs):\n",
        "  for batch_idx, (data, target) in enumerate(trainloader):\n",
        "    # get data to cuda if possible\n",
        "    data = data.to(device=device)\n",
        "\n",
        "    target = target.type(torch.LongTensor)\n",
        "    target = target.to(device=device)\n",
        "    #print(data.shape) ---> torch.Size([64, 784])\n",
        "\n",
        "    # this flattens the data from 28x28 to 784 (in our case they are already flattened)\n",
        "    data = data.reshape(data.shape[0], -1)\n",
        "\n",
        "    # forward \n",
        "    scores = model(data)\n",
        "    loss = criterion(scores, target)\n",
        "\n",
        "    # backwards\n",
        "    optimizer.zero_grad() # so it doesnt store the backprob from previous batches\n",
        "    loss.backward()\n",
        "\n",
        "    # gradient descent or adam step\n",
        "    optimizer.step()\n",
        "\n",
        "  # print accuracies\n",
        "  _, predictions = scores.max(1)\n",
        "  num_cor += (predictions == target).sum()\n",
        "  num_samples += predictions.size(0)\n",
        "  print(\"Epoch:\", (epoch+1), \"- Train acuracy: \", float(num_cor)/float(num_samples)*100, \"%\")\n",
        "\n",
        "# print the test accuracy\n",
        "num_cor_test = 0\n",
        "num_samples_test = 0\n",
        "model.eval()\n",
        "with torch.no_grad():\n",
        "  for x, y in testloader:\n",
        "    x = x.to(device=device)\n",
        "    y = y.to(device=device)\n",
        "\n",
        "    scores = model(x)\n",
        "    _, predictions = scores.max(1)\n",
        "    num_cor_test += (predictions == y).sum()\n",
        "    num_samples_test += predictions.size(0)\n",
        "  print(\"Test acuracy: \", float(num_cor_test)/float(num_samples_test)*100, \"%\")"
      ],
      "metadata": {
        "colab": {
          "base_uri": "https://localhost:8080/"
        },
        "id": "dgRE6VnzfAIV",
        "outputId": "3f4fc3f9-7fdd-439e-9452-304acea67dd7"
      },
      "execution_count": null,
      "outputs": [
        {
          "output_type": "stream",
          "name": "stdout",
          "text": [
            "Epoch: 1 - Train acuracy:  93.75 %\n",
            "Epoch: 2 - Train acuracy:  93.75 %\n",
            "Epoch: 3 - Train acuracy:  94.79166666666666 %\n",
            "Epoch: 4 - Train acuracy:  95.3125 %\n",
            "Epoch: 5 - Train acuracy:  95.625 %\n",
            "Test acuracy:  96.54 %\n"
          ]
        }
      ]
    },
    {
      "cell_type": "markdown",
      "source": [
        "# CONVOLUTIONAL NEURAL NETWORK with Keras"
      ],
      "metadata": {
        "id": "BilJ8g1LQ_PG"
      }
    },
    {
      "cell_type": "code",
      "source": [
        "import numpy as np\n",
        "from tensorflow import keras\n",
        "from tensorflow.keras import layers"
      ],
      "metadata": {
        "id": "AnlZeZ1eZMfq"
      },
      "execution_count": null,
      "outputs": []
    },
    {
      "cell_type": "code",
      "source": [
        "# here we want to keep the initial 2d shape of the data (28x28), and also add a \n",
        "# 3rd dimension for the chanels (gray scale in our case)\n",
        "\n",
        "# we only want to normalize them\n",
        "train_data = x_train.astype(\"float32\") / 255\n",
        "test_data = x_test.astype(\"float32\") / 255\n",
        "\n",
        "# add the 3rd dimension\n",
        "train_data = np.expand_dims(train_data, -1)\n",
        "test_data = np.expand_dims(test_data, -1)\n",
        "\n",
        "train_target, test_target = reshape_y(y_train, y_test)"
      ],
      "metadata": {
        "id": "4UIThylDnEKZ",
        "colab": {
          "base_uri": "https://localhost:8080/"
        },
        "outputId": "cb942d4a-4ba6-4caa-a2c4-a66bb59f7b7f"
      },
      "execution_count": null,
      "outputs": [
        {
          "output_type": "stream",
          "name": "stdout",
          "text": [
            "Shape before one-hot encoding:  (60000,)\n",
            "Shape after one-hot encoding:  (60000, 10)\n"
          ]
        }
      ]
    },
    {
      "cell_type": "code",
      "source": [
        "num_classes = 10\n",
        "input_shape = (28, 28, 1)\n",
        "\n",
        "model = keras.Sequential(\n",
        "    [\n",
        "        keras.Input(shape=input_shape),\n",
        "        layers.Conv2D(32, kernel_size=(3, 3), activation=\"relu\"),\n",
        "        layers.MaxPooling2D(pool_size=(2, 2)),\n",
        "        layers.Conv2D(32, kernel_size=(3, 3), activation=\"relu\"),\n",
        "        layers.MaxPooling2D(pool_size=(2, 2)),\n",
        "        layers.Flatten(),\n",
        "        layers.Dropout(0.5),\n",
        "        layers.Dense(num_classes, activation=\"softmax\"),\n",
        "    ]\n",
        ")\n",
        "\n",
        "model.summary()"
      ],
      "metadata": {
        "colab": {
          "base_uri": "https://localhost:8080/"
        },
        "id": "b4UCnwpWZFD4",
        "outputId": "7da0dba4-d022-4b54-b63f-563feac2fd73"
      },
      "execution_count": null,
      "outputs": [
        {
          "output_type": "stream",
          "name": "stdout",
          "text": [
            "Model: \"sequential_2\"\n",
            "_________________________________________________________________\n",
            " Layer (type)                Output Shape              Param #   \n",
            "=================================================================\n",
            " conv2d_2 (Conv2D)           (None, 26, 26, 32)        320       \n",
            "                                                                 \n",
            " max_pooling2d_2 (MaxPooling  (None, 13, 13, 32)       0         \n",
            " 2D)                                                             \n",
            "                                                                 \n",
            " conv2d_3 (Conv2D)           (None, 11, 11, 32)        9248      \n",
            "                                                                 \n",
            " max_pooling2d_3 (MaxPooling  (None, 5, 5, 32)         0         \n",
            " 2D)                                                             \n",
            "                                                                 \n",
            " flatten_1 (Flatten)         (None, 800)               0         \n",
            "                                                                 \n",
            " dropout_3 (Dropout)         (None, 800)               0         \n",
            "                                                                 \n",
            " dense_4 (Dense)             (None, 10)                8010      \n",
            "                                                                 \n",
            "=================================================================\n",
            "Total params: 17,578\n",
            "Trainable params: 17,578\n",
            "Non-trainable params: 0\n",
            "_________________________________________________________________\n"
          ]
        }
      ]
    },
    {
      "cell_type": "code",
      "source": [
        "batch_size = 128\n",
        "epochs = 5\n",
        "\n",
        "model.compile(loss=\"categorical_crossentropy\", optimizer=\"adam\", metrics=[\"accuracy\"])\n",
        "\n",
        "model.fit(train_data, train_target, batch_size=batch_size, epochs=epochs, validation_split=0.1)"
      ],
      "metadata": {
        "colab": {
          "base_uri": "https://localhost:8080/"
        },
        "id": "W6E3P2TAZaqp",
        "outputId": "129584a4-6706-4746-90ec-ec83a4751dc3"
      },
      "execution_count": null,
      "outputs": [
        {
          "output_type": "stream",
          "name": "stdout",
          "text": [
            "Epoch 1/5\n",
            "422/422 [==============================] - 34s 78ms/step - loss: 0.4790 - accuracy: 0.8491 - val_loss: 0.0996 - val_accuracy: 0.9727\n",
            "Epoch 2/5\n",
            "422/422 [==============================] - 35s 84ms/step - loss: 0.1478 - accuracy: 0.9553 - val_loss: 0.0664 - val_accuracy: 0.9823\n",
            "Epoch 3/5\n",
            "422/422 [==============================] - 33s 78ms/step - loss: 0.1125 - accuracy: 0.9660 - val_loss: 0.0531 - val_accuracy: 0.9858\n",
            "Epoch 4/5\n",
            "422/422 [==============================] - 34s 80ms/step - loss: 0.0928 - accuracy: 0.9712 - val_loss: 0.0461 - val_accuracy: 0.9877\n",
            "Epoch 5/5\n",
            "422/422 [==============================] - 33s 79ms/step - loss: 0.0820 - accuracy: 0.9748 - val_loss: 0.0472 - val_accuracy: 0.9868\n"
          ]
        },
        {
          "output_type": "execute_result",
          "data": {
            "text/plain": [
              "<keras.callbacks.History at 0x7f3635d6f690>"
            ]
          },
          "metadata": {},
          "execution_count": 33
        }
      ]
    },
    {
      "cell_type": "code",
      "source": [
        "score = model.evaluate(test_data, test_target, verbose=0)\n",
        "print(\"Test loss:\", score[0])\n",
        "print(\"Test accuracy:\", score[1])"
      ],
      "metadata": {
        "colab": {
          "base_uri": "https://localhost:8080/"
        },
        "id": "scgFWG-mZqxy",
        "outputId": "87aa4805-608c-4e03-ed2e-98579c011b26"
      },
      "execution_count": null,
      "outputs": [
        {
          "output_type": "stream",
          "name": "stdout",
          "text": [
            "Test loss: 0.046237923204898834\n",
            "Test accuracy: 0.9854000210762024\n"
          ]
        }
      ]
    },
    {
      "cell_type": "markdown",
      "source": [
        "# SVM"
      ],
      "metadata": {
        "id": "GGbhAeY3bjCw"
      }
    },
    {
      "cell_type": "code",
      "source": [
        "from sklearn.svm import LinearSVC\n",
        "import time"
      ],
      "metadata": {
        "id": "3yRUkVtugtze"
      },
      "execution_count": null,
      "outputs": []
    },
    {
      "cell_type": "code",
      "source": [
        "train_data, test_data = reshape_x(x_train, x_test)\n",
        "train_target, test_target = y_train, y_test\n",
        "\n",
        "# we reduce the amount of data for faster runtime\n",
        "train_data = train_data[:2000]\n",
        "train_target = train_target[:2000]\n",
        "test_data = test_data[:2000]\n",
        "test_target = test_target[:2000]"
      ],
      "metadata": {
        "colab": {
          "base_uri": "https://localhost:8080/"
        },
        "id": "ODB1JglBbhq_",
        "outputId": "4ce7c708-73a5-4899-af72-9b3e5ba1a773"
      },
      "execution_count": null,
      "outputs": [
        {
          "output_type": "stream",
          "name": "stdout",
          "text": [
            "Train matrix shape (60000, 784)\n",
            "Test matrix shape (10000, 784)\n"
          ]
        }
      ]
    },
    {
      "cell_type": "code",
      "source": [
        "# define our Support Vector Machine\n",
        "# we use linearSVC for faster runtime\n",
        "clf = LinearSVC(C=100, tol=1e-5)\n",
        "start_time = time.time()\n",
        "\n",
        "# training the SVM\n",
        "clf.fit(train_data, train_target)"
      ],
      "metadata": {
        "colab": {
          "base_uri": "https://localhost:8080/"
        },
        "id": "zJ1QDWfZgpKn",
        "outputId": "f838832e-f8ab-45d2-db62-c3923172c585"
      },
      "execution_count": null,
      "outputs": [
        {
          "output_type": "stream",
          "name": "stderr",
          "text": [
            "/usr/local/lib/python3.7/dist-packages/sklearn/svm/_base.py:1208: ConvergenceWarning: Liblinear failed to converge, increase the number of iterations.\n",
            "  ConvergenceWarning,\n"
          ]
        },
        {
          "output_type": "execute_result",
          "data": {
            "text/plain": [
              "LinearSVC(C=100, tol=1e-05)"
            ]
          },
          "metadata": {},
          "execution_count": 16
        }
      ]
    },
    {
      "cell_type": "code",
      "source": [
        "# predictions for train set\n",
        "train_predictions = clf.predict(train_data)\n",
        "print(\"Train accuracy: \", (train_predictions == train_target).sum()/len(train_target)*100, \"%\")\n",
        "\n",
        "# predictions for test set\n",
        "test_predictions = clf.predict(test_data)\n",
        "print(\"Test accuracy: \", (test_predictions == test_target).sum()/len(test_target)*100, \"%\")"
      ],
      "metadata": {
        "colab": {
          "base_uri": "https://localhost:8080/"
        },
        "id": "3QVWmd_YiPFy",
        "outputId": "32d2c804-6d3f-4711-bb3c-3fcf82532a99"
      },
      "execution_count": null,
      "outputs": [
        {
          "output_type": "stream",
          "name": "stdout",
          "text": [
            "Train accuracy:  100.0 %\n",
            "Test accuracy:  78.95 %\n"
          ]
        }
      ]
    },
    {
      "cell_type": "markdown",
      "source": [
        "# RBF FROM SCRATCH"
      ],
      "metadata": {
        "id": "WTcAfzbwkYnX"
      }
    },
    {
      "cell_type": "code",
      "source": [
        "import random\n",
        "import math\n",
        "from scipy.linalg import norm\n",
        "from numpy import linalg as LA"
      ],
      "metadata": {
        "id": "FXhxrgNAmXE_"
      },
      "execution_count": null,
      "outputs": []
    },
    {
      "cell_type": "code",
      "source": [
        "# we want to classify the numbers into odd and even\n",
        "train_data, test_data = reshape_x(x_train, x_test)\n",
        "train_target, test_target = np.mod(y_train, 2), np.mod(y_test, 2)\n",
        "train_target, test_target = reshape_y(train_target, test_target)\n",
        "\n",
        "# we reduce the amount of data for faster runtime\n",
        "train_sample = random.sample(range(0,len(train_data)), 10000)\n",
        "train_data = train_data[train_sample]\n",
        "train_target = train_target[train_sample]\n",
        "\n",
        "test_sample = random.sample(range(0,len(test_data)), 2000)\n",
        "test_data = test_data[test_sample]\n",
        "test_target = test_target[test_sample]"
      ],
      "metadata": {
        "colab": {
          "base_uri": "https://localhost:8080/"
        },
        "id": "mKolXVHnkYEq",
        "outputId": "280e7985-6feb-42e8-ede4-05b0a622c6c6"
      },
      "execution_count": null,
      "outputs": [
        {
          "output_type": "stream",
          "name": "stdout",
          "text": [
            "Train matrix shape (60000, 784)\n",
            "Test matrix shape (10000, 784)\n",
            "Shape before one-hot encoding:  (60000,)\n",
            "Shape after one-hot encoding:  (60000, 2)\n"
          ]
        }
      ]
    },
    {
      "cell_type": "code",
      "source": [
        "#inisialize rundom centers\n",
        "sample = random.sample(range(0,len(train_data)), 600)\n",
        "cluster_centers_ = train_data[sample]\n",
        "\n",
        "\n",
        "original_weights = np.random.rand(len(cluster_centers_),2)\n",
        "original_weights = 2*original_weights -1\n",
        "learning_rate = 0.1\n",
        "epochs = 5"
      ],
      "metadata": {
        "id": "-QcNxaFUmSiI"
      },
      "execution_count": null,
      "outputs": []
    },
    {
      "cell_type": "code",
      "source": [
        "# activation function\n",
        "def Gauss(x,c,s):\n",
        "    gamma=1/2*s**2\n",
        "    return math.exp(-gamma*norm(x-c)**2)\n",
        "\n",
        "\n",
        "def Compute_distance_avg(clusters):\n",
        "  distances = np.zeros(len(clusters))\n",
        "  for i in range (len(clusters)):\n",
        "    sum = 0\n",
        "    for j in range (len(clusters)):\n",
        "      d = LA.norm(np.power(clusters[i] - clusters[j], 2))\n",
        "      sum +=d\n",
        "    distances[i] = sum/(len(clusters) - 1)\n",
        "  return distances"
      ],
      "metadata": {
        "id": "tYU-3HYkpF9L"
      },
      "execution_count": null,
      "outputs": []
    },
    {
      "cell_type": "code",
      "source": [
        "# RBF code\n",
        "weights = original_weights\n",
        "distances = Compute_distance_avg(cluster_centers_)\n",
        "sigma = distances/np.sqrt(2*len(cluster_centers_))\n",
        "\n",
        "\n",
        "start_time = time.time()\n",
        "a = np.zeros((len(train_data), len(cluster_centers_)))\n",
        "for k in range (len(train_data)):\n",
        "  for i in range (len(cluster_centers_)):\n",
        "      a[k][i] = Gauss(train_data[k], cluster_centers_[i], sigma[i])\n",
        "\n",
        "\n",
        "for epoch in range (epochs):\n",
        "  train_corrects = 0\n",
        "  val_corrects = 0\n",
        "  for k in range (len(train_data)):\n",
        "    trueLabels = train_target[k]\n",
        "\n",
        "    #compute a\n",
        "    #a = np.zeros(len(cluster_centers_))\n",
        "    #for i in range (len(cluster_centers_)):\n",
        "    #  a[i] = Gauss(train_data[k], cluster_centers_[i], sigma[i])\n",
        "      \n",
        "    #compute output \n",
        "    output_layer = np.dot(a[k], weights)\n",
        "\n",
        "    maxIndex = output_layer.argmax()\n",
        "    trueIndex = trueLabels.argmax()\n",
        "    if(maxIndex == trueIndex):\n",
        "      train_corrects +=1\n",
        "\n",
        "    error_output_layer = np.subtract(trueLabels, output_layer)\n",
        "\n",
        "    #update weights\n",
        "    for i in range(len(weights)):\n",
        "      weights[i] = weights[i] + learning_rate*(error_output_layer)*a[k][i]\n",
        "\n",
        "\n",
        "  print(\"epoch\", epoch + 1, \" time:\", round((time.time() - start_time)/60, 2), \"minutes\")\n",
        "  print(\"training accuracy\", round(train_corrects/len(train_data)*100,3),\"% accuracy\")\n",
        "  print(\"\")\n",
        "\n",
        "#test set\n",
        "test_corrects = 0\n",
        "for k in range (len(test_data)):\n",
        "  trueLabels = test_target[k]\n",
        "\n",
        "  a = np.zeros(len(cluster_centers_))\n",
        "  for i in range (len(cluster_centers_)):\n",
        "    a[i] = Gauss(test_data[k], cluster_centers_[i], sigma[i])\n",
        "\n",
        "  output_layer = np.dot(a, weights)\n",
        "\n",
        "  maxIndex = output_layer.argmax()\n",
        "  trueIndex = trueLabels.argmax()\n",
        "  if(maxIndex == trueIndex):\n",
        "    test_corrects +=1\n",
        "\n",
        "print(\"===============================\")\n",
        "print(\"test accuracy\", round(test_corrects/len(test_data)*100,3),\"% accuracy\") "
      ],
      "metadata": {
        "colab": {
          "base_uri": "https://localhost:8080/"
        },
        "id": "wDSvll_Fmjhn",
        "outputId": "b8c06031-1138-49bf-f1b4-481d847c87de"
      },
      "execution_count": null,
      "outputs": [
        {
          "output_type": "stream",
          "name": "stdout",
          "text": [
            "epoch 1  time: 1.52 minutes\n",
            "training accuracy 92.6 % accuracy\n",
            "\n",
            "epoch 2  time: 1.92 minutes\n",
            "training accuracy 93.37 % accuracy\n",
            "\n",
            "epoch 3  time: 2.33 minutes\n",
            "training accuracy 93.86 % accuracy\n",
            "\n",
            "epoch 4  time: 2.73 minutes\n",
            "training accuracy 94.13 % accuracy\n",
            "\n",
            "epoch 5  time: 3.13 minutes\n",
            "training accuracy 94.37 % accuracy\n",
            "\n",
            "===============================\n",
            "test accuracy 92.1 % accuracy\n"
          ]
        }
      ]
    }
  ]
}